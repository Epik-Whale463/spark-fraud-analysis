{
 "cells": [
  {
   "cell_type": "code",
   "execution_count": null,
   "id": "7591cf32",
   "metadata": {},
   "outputs": [],
   "source": [
    "# Load Data\n",
    "import kagglehub\n",
    "\n",
    "# Download latest version\n",
    "path = kagglehub.dataset_download(\"ismetsemedov/transactions\")\n",
    "\n",
    "print(\"Path to dataset files:\", path)"
   ]
  },
  {
   "cell_type": "code",
   "execution_count": 1,
   "id": "badbcb9f",
   "metadata": {},
   "outputs": [
    {
     "data": {
      "text/html": [
       "\n",
       "            <div>\n",
       "                <p><b>SparkSession - in-memory</b></p>\n",
       "                \n",
       "        <div>\n",
       "            <p><b>SparkContext</b></p>\n",
       "\n",
       "            <p><a href=\"http://RamaCharan:4040\">Spark UI</a></p>\n",
       "\n",
       "            <dl>\n",
       "              <dt>Version</dt>\n",
       "                <dd><code>v4.0.1</code></dd>\n",
       "              <dt>Master</dt>\n",
       "                <dd><code>local[*]</code></dd>\n",
       "              <dt>AppName</dt>\n",
       "                <dd><code>FinAnalysis</code></dd>\n",
       "            </dl>\n",
       "        </div>\n",
       "        \n",
       "            </div>\n",
       "        "
      ],
      "text/plain": [
       "<pyspark.sql.session.SparkSession at 0x1c967309940>"
      ]
     },
     "execution_count": 1,
     "metadata": {},
     "output_type": "execute_result"
    }
   ],
   "source": [
    "from pyspark.sql import SparkSession\n",
    "\n",
    "spark = SparkSession.builder.appName('FinAnalysis').config(\"spark.driver.memory\", \"8g\").getOrCreate()\n",
    "spark"
   ]
  },
  {
   "cell_type": "code",
   "execution_count": null,
   "id": "0b34f7a8",
   "metadata": {},
   "outputs": [],
   "source": [
    "txn_df = spark.read.csv(\n",
    "    \"./data/transactions_dataset.csv\",\n",
    "    header=True,\n",
    "    inferSchema=True\n",
    ")\n",
    "txn_df = txn_df.repartition(30)"
   ]
  },
  {
   "cell_type": "code",
   "execution_count": 3,
   "id": "a26af797",
   "metadata": {},
   "outputs": [
    {
     "name": "stdout",
     "output_type": "stream",
     "text": [
      "+--------------+-----------+----------------+--------------------+-----------------+-------------+--------------------+---------+--------+---------+------------+---------+---------------+------------+-----------+-------+--------------------+---------------+------------------+------------------+----------------+-------------------+--------------------+--------+\n",
      "|transaction_id|customer_id|     card_number|           timestamp|merchant_category|merchant_type|            merchant|   amount|currency|  country|        city|city_size|      card_type|card_present|     device|channel|  device_fingerprint|     ip_address|distance_from_home|high_risk_merchant|transaction_hour|weekend_transaction|  velocity_last_hour|is_fraud|\n",
      "+--------------+-----------+----------------+--------------------+-----------------+-------------+--------------------+---------+--------+---------+------------+---------+---------------+------------+-----------+-------+--------------------+---------------+------------------+------------------+----------------+-------------------+--------------------+--------+\n",
      "|   TX_1e4c782e| CUST_96425|5969721343617568|2024-09-30 21:36:...|       Healthcare|     pharmacy|        CVS Pharmacy| 80512.95|     JPY|    Japan|Unknown City|   medium|   Basic Credit|       false|       Edge|    web|b005603173b87d809...|   109.15.57.11|                 1|             false|              16|              false|{'num_transaction...|    true|\n",
      "|   TX_666fe3fc| CUST_63565| 375926559776284|2024-09-30 23:47:...|       Restaurant|       casual|          Applebee's|   160.17|     SGD|Singapore|Unknown City|   medium|  Premium Debit|       false|     Chrome|    web|228671fdbb15085b2...|  96.106.32.126|                 0|             false|              18|              false|{'num_transaction...|   false|\n",
      "|   TX_1cc92807| CUST_49055|4909317022727129|2024-10-01 05:28:...|        Education|     supplies|University Bookstore|   249.47|     AUD|Australia|Unknown City|   medium|    Basic Debit|       false|     Chrome|    web|3edaeed5f542749a1...|    48.118.3.78|                 0|             false|              23|              false|{'num_transaction...|   false|\n",
      "|   TX_7fe434fe| CUST_29204|6222409918587900|2024-09-30 12:45:...|       Restaurant|       casual|         Red Lobster|  2580.06|     MXN|   Mexico|Unknown City|   medium|  Premium Debit|       false|    Firefox|    web|0ef69f052822b294a...|  119.49.133.69|                 0|             false|               7|              false|{'num_transaction...|   false|\n",
      "|   TX_c12beb3b| CUST_43849|6255086927953099|2024-09-30 08:40:...|       Healthcare|      medical|         Urgent Care|   611.52|     EUR|  Germany|Unknown City|   medium|Platinum Credit|       false|     Safari|    web|bbe0b3f631ba6f97a...| 72.163.189.181|                 0|             false|               3|              false|{'num_transaction...|   false|\n",
      "|   TX_c8acfc3e| CUST_61558|5766654126345112|2024-09-30 19:38:...|       Restaurant|       casual|         Red Lobster|  2053.63|     MXN|   Mexico|Unknown City|   medium|Platinum Credit|       false|    Firefox|    web|b9e702b9182246d9a...|104.106.114.161|                 1|             false|              14|              false|{'num_transaction...|    true|\n",
      "|   TX_9e5df075| CUST_38428|4579363417921488|2024-10-01 11:00:...|        Education|       online|                 edX|   196.93|     GBP|       UK|Unknown City|   medium|   Basic Credit|       false|Android App| mobile|6b180f05f34660885...| 177.67.233.154|                 0|             false|               5|              false|{'num_transaction...|   false|\n",
      "|   TX_7692dce3| CUST_97170|5703986251178272|2024-10-01 09:56:...|       Healthcare|      medical|      Medical Center|   824.66|     NGN|  Nigeria|Unknown City|   medium|    Gold Credit|       false|    iOS App| mobile|09c28abe5016ce195...| 15.226.105.221|                 1|             false|               4|              false|{'num_transaction...|    true|\n",
      "|   TX_dc29c2d2| CUST_83820|5046533572862030|2024-10-01 07:38:...|    Entertainment|       events|          LiveNation| 33057.72|     MXN|   Mexico|Unknown City|   medium|  Premium Debit|       false|Android App| mobile|013ff9e49892796a5...|     78.5.47.98|                 1|              true|               2|              false|{'num_transaction...|    true|\n",
      "|   TX_6127afcd| CUST_96083| 374610389100763|2024-10-01 03:07:...|       Restaurant|       casual|         Red Lobster|   107.22|     USD|      USA| Los Angeles|    large|  Premium Debit|       false|    iOS App| mobile|abea6c915ff160390...|  242.29.177.27|                 1|             false|              21|              false|{'num_transaction...|   false|\n",
      "|   TX_58bbf752| CUST_91019|6577728749716193|2024-10-01 05:07:...|              Gas|        local|          Truck Stop|198584.39|     NGN|  Nigeria|Unknown City|   medium|  Premium Debit|       false|    iOS App| mobile|3bad4444014f8affc...|  51.221.64.187|                 0|             false|              23|              false|{'num_transaction...|   false|\n",
      "|   TX_56f8242e| CUST_76716|6495968465352190|2024-10-01 12:02:...|       Restaurant|      premium|      Capital Grille|  3543.18|     BRL|   Brazil|Unknown City|   medium|Platinum Credit|       false|     Safari|    web|d8b7cfae0524be531...|  156.208.76.45|                 0|             false|               6|              false|{'num_transaction...|   false|\n",
      "|   TX_a4760eab| CUST_47414|6336417729353449|2024-10-01 06:46:...|              Gas|        local|          Truck Stop|  9339.62|     MXN|   Mexico|Unknown City|   medium|  Premium Debit|       false|    iOS App| mobile|77299be9ccd339b71...| 211.249.93.126|                 0|             false|               1|              false|{'num_transaction...|   false|\n",
      "|   TX_30cd80d0| CUST_13176|6969481489407971|2024-09-30 13:01:...|           Retail|       online|                Etsy|    698.3|     EUR|  Germany|Unknown City|   medium|  Premium Debit|       false|    Firefox|    web|afd2f3a72b4eafcae...|   12.190.70.96|                 0|             false|               7|              false|{'num_transaction...|   false|\n",
      "|   TX_642b9a69| CUST_51298|6349325768556597|2024-10-01 10:13:...|        Education|       online|                 edX|100673.48|     RUB|   Russia|Unknown City|   medium|  Premium Debit|        true|Chip Reader|    pos|2cd707b9861118e8e...|  92.48.241.126|                 1|             false|               4|              false|{'num_transaction...|    true|\n",
      "|   TX_2dd2e01b| CUST_51542| 373926223681078|2024-10-01 04:00:...|           Retail|       online|                Etsy|   515.28|     EUR|   France|Unknown City|   medium|   Basic Credit|       false|Android App| mobile|2f07fd759f78375af...|255.114.181.104|                 0|             false|              22|              false|{'num_transaction...|   false|\n",
      "|   TX_c5b0c7aa| CUST_45598| 375580434589550|2024-09-30 20:17:...|           Retail|       online|       Shopify Store|341337.56|     NGN|  Nigeria|Unknown City|   medium|    Gold Credit|       false|    Firefox|    web|c39feee1983351f7e...|150.248.238.162|                 1|             false|              14|              false|{'num_transaction...|   false|\n",
      "|   TX_92dc3e92| CUST_31835| 370551935765325|2024-09-30 23:19:...|       Healthcare|      medical|            Lab Corp|   667.61|     USD|      USA|    New York|    large|Platinum Credit|       false|    iOS App| mobile|5923535eed40ac4a9...|   40.44.209.68|                 1|             false|              17|              false|{'num_transaction...|   false|\n",
      "|   TX_749c14e6| CUST_13502| 370470088049850|2024-09-30 23:10:...|              Gas|        major|             Chevron| 70470.55|     JPY|    Japan|Unknown City|   medium|Platinum Credit|       false|    iOS App| mobile|47751f3c078ebb4c2...|   112.89.12.56|                 1|             false|              17|              false|{'num_transaction...|   false|\n",
      "|   TX_03628f15| CUST_57563|5391006502213781|2024-09-30 15:42:...|          Grocery|     physical|              Kroger|   2489.5|     AUD|Australia|Unknown City|   medium|Platinum Credit|       false|     Safari|    web|b3de382462b64ea02...|   71.59.72.127|                 0|             false|              10|              false|{'num_transaction...|   false|\n",
      "+--------------+-----------+----------------+--------------------+-----------------+-------------+--------------------+---------+--------+---------+------------+---------+---------------+------------+-----------+-------+--------------------+---------------+------------------+------------------+----------------+-------------------+--------------------+--------+\n",
      "only showing top 20 rows\n"
     ]
    }
   ],
   "source": [
    "txn_df.show()"
   ]
  },
  {
   "cell_type": "code",
   "execution_count": 4,
   "id": "8da62fff",
   "metadata": {},
   "outputs": [
    {
     "name": "stdout",
     "output_type": "stream",
     "text": [
      "['transaction_id', 'customer_id', 'card_number', 'timestamp', 'merchant_category', 'merchant_type', 'merchant', 'amount', 'currency', 'country', 'city', 'city_size', 'card_type', 'card_present', 'device', 'channel', 'device_fingerprint', 'ip_address', 'distance_from_home', 'high_risk_merchant', 'transaction_hour', 'weekend_transaction', 'velocity_last_hour', 'is_fraud']\n"
     ]
    }
   ],
   "source": [
    "dataset_columns = txn_df.columns\n",
    "print(dataset_columns)"
   ]
  },
  {
   "cell_type": "code",
   "execution_count": 5,
   "id": "0c349528",
   "metadata": {},
   "outputs": [
    {
     "name": "stdout",
     "output_type": "stream",
     "text": [
      "+--------------+-----------+-----------+---------+-----------------+-------------+--------+------+--------+-------+----+---------+---------+------------+------+-------+------------------+----------+------------------+------------------+----------------+-------------------+------------------+--------+\n",
      "|transaction_id|customer_id|card_number|timestamp|merchant_category|merchant_type|merchant|amount|currency|country|city|city_size|card_type|card_present|device|channel|device_fingerprint|ip_address|distance_from_home|high_risk_merchant|transaction_hour|weekend_transaction|velocity_last_hour|is_fraud|\n",
      "+--------------+-----------+-----------+---------+-----------------+-------------+--------+------+--------+-------+----+---------+---------+------------+------+-------+------------------+----------+------------------+------------------+----------------+-------------------+------------------+--------+\n",
      "|             0|          0|          0|        0|                0|            0|       0|     0|       0|      0|   0|        0|        0|           0|     0|      0|                 0|         0|                 0|                 0|               0|                  0|                 0|       0|\n",
      "+--------------+-----------+-----------+---------+-----------------+-------------+--------+------+--------+-------+----+---------+---------+------------+------+-------+------------------+----------+------------------+------------------+----------------+-------------------+------------------+--------+\n",
      "\n"
     ]
    }
   ],
   "source": [
    "# Check for null values\n",
    "from pyspark.sql.functions import col, sum\n",
    "null_values = txn_df.select([sum(col(c).isNull().cast(\"int\")).alias(c) for c in dataset_columns])\n",
    "\n",
    "null_values.show()\n",
    "\n",
    "#No null values"
   ]
  },
  {
   "cell_type": "code",
   "execution_count": 6,
   "id": "dc058906",
   "metadata": {},
   "outputs": [
    {
     "name": "stdout",
     "output_type": "stream",
     "text": [
      "+--------+-------+\n",
      "|is_fraud|  count|\n",
      "+--------+-------+\n",
      "|    true|1494719|\n",
      "|   false|5989047|\n",
      "+--------+-------+\n",
      "\n"
     ]
    }
   ],
   "source": [
    "# Check Data distribution\n",
    "total_count = txn_df.count()\n",
    "fraud_count = txn_df.groupBy(\"is_fraud\").count()\n",
    "fraud_count.show()"
   ]
  },
  {
   "cell_type": "code",
   "execution_count": 7,
   "id": "e8acc1e3",
   "metadata": {},
   "outputs": [
    {
     "name": "stdout",
     "output_type": "stream",
     "text": [
      "Number of partitions :  30\n"
     ]
    }
   ],
   "source": [
    "print(\"Number of partitions : \", txn_df.rdd.getNumPartitions())"
   ]
  },
  {
   "cell_type": "code",
   "execution_count": 8,
   "id": "0b640f79",
   "metadata": {},
   "outputs": [
    {
     "name": "stdout",
     "output_type": "stream",
     "text": [
      "root\n",
      " |-- transaction_id: string (nullable = true)\n",
      " |-- customer_id: string (nullable = true)\n",
      " |-- card_number: long (nullable = true)\n",
      " |-- timestamp: timestamp (nullable = true)\n",
      " |-- merchant_category: string (nullable = true)\n",
      " |-- merchant_type: string (nullable = true)\n",
      " |-- merchant: string (nullable = true)\n",
      " |-- amount: double (nullable = true)\n",
      " |-- currency: string (nullable = true)\n",
      " |-- country: string (nullable = true)\n",
      " |-- city: string (nullable = true)\n",
      " |-- city_size: string (nullable = true)\n",
      " |-- card_type: string (nullable = true)\n",
      " |-- card_present: boolean (nullable = true)\n",
      " |-- device: string (nullable = true)\n",
      " |-- channel: string (nullable = true)\n",
      " |-- device_fingerprint: string (nullable = true)\n",
      " |-- ip_address: string (nullable = true)\n",
      " |-- distance_from_home: integer (nullable = true)\n",
      " |-- high_risk_merchant: boolean (nullable = true)\n",
      " |-- transaction_hour: integer (nullable = true)\n",
      " |-- weekend_transaction: boolean (nullable = true)\n",
      " |-- velocity_last_hour: string (nullable = true)\n",
      " |-- is_fraud: boolean (nullable = true)\n",
      "\n"
     ]
    }
   ],
   "source": [
    "# Check the datatypes of the columns\n",
    "txn_df.printSchema()"
   ]
  },
  {
   "cell_type": "code",
   "execution_count": 9,
   "id": "e31d31e4",
   "metadata": {},
   "outputs": [
    {
     "name": "stdout",
     "output_type": "stream",
     "text": [
      "+--------------------+\n",
      "|           timestamp|\n",
      "+--------------------+\n",
      "|2024-10-01 13:52:...|\n",
      "|2024-09-30 07:22:...|\n",
      "|2024-10-01 02:38:...|\n",
      "|2024-09-30 07:12:...|\n",
      "|2024-10-01 10:11:...|\n",
      "|2024-09-30 12:29:...|\n",
      "|2024-09-30 09:00:...|\n",
      "|2024-09-30 06:25:...|\n",
      "|2024-09-30 10:45:...|\n",
      "|2024-09-30 16:48:...|\n",
      "|2024-09-30 16:03:...|\n",
      "|2024-10-01 09:14:...|\n",
      "|2024-09-30 20:46:...|\n",
      "|2024-09-30 21:01:...|\n",
      "|2024-09-30 22:51:...|\n",
      "|2024-09-30 08:40:...|\n",
      "|2024-09-30 09:35:...|\n",
      "|2024-10-01 13:02:...|\n",
      "|2024-09-30 16:43:...|\n",
      "|2024-10-01 05:39:...|\n",
      "+--------------------+\n",
      "only showing top 20 rows\n"
     ]
    }
   ],
   "source": [
    "txn_df.select(\"timestamp\").show()"
   ]
  },
  {
   "cell_type": "code",
   "execution_count": 10,
   "id": "9d9250e5",
   "metadata": {},
   "outputs": [
    {
     "name": "stdout",
     "output_type": "stream",
     "text": [
      "transaction_id - StringType()\n",
      "customer_id - StringType()\n",
      "card_number - LongType()\n",
      "timestamp - TimestampType()\n",
      "merchant_category - StringType()\n",
      "merchant_type - StringType()\n",
      "merchant - StringType()\n",
      "amount - DoubleType()\n",
      "currency - StringType()\n",
      "country - StringType()\n",
      "city - StringType()\n",
      "city_size - StringType()\n",
      "card_type - StringType()\n",
      "card_present - BooleanType()\n",
      "device - StringType()\n",
      "channel - StringType()\n",
      "device_fingerprint - StringType()\n",
      "ip_address - StringType()\n",
      "distance_from_home - IntegerType()\n",
      "high_risk_merchant - BooleanType()\n",
      "transaction_hour - IntegerType()\n",
      "weekend_transaction - BooleanType()\n",
      "velocity_last_hour - StringType()\n",
      "is_fraud - BooleanType()\n"
     ]
    }
   ],
   "source": [
    "for field in txn_df.schema.fields:\n",
    "    print(field.name,\"-\",field.dataType)"
   ]
  },
  {
   "cell_type": "code",
   "execution_count": 11,
   "id": "456e00d1",
   "metadata": {},
   "outputs": [
    {
     "name": "stdout",
     "output_type": "stream",
     "text": [
      "transaction_id : 7477306 unq values\n",
      "customer_id : 4869 unq values\n",
      "card_number : 5000 unq values\n",
      "timestamp : 7483754 unq values\n",
      "merchant_category : 8 unq values\n",
      "merchant_type : 17 unq values\n",
      "merchant : 105 unq values\n",
      "amount : 2831167 unq values\n",
      "currency : 11 unq values\n",
      "country : 12 unq values\n",
      "city : 11 unq values\n",
      "city_size : 2 unq values\n",
      "card_type : 5 unq values\n",
      "card_present : 2 unq values\n",
      "device : 9 unq values\n",
      "channel : 3 unq values\n",
      "device_fingerprint : 785462 unq values\n",
      "ip_address : 7477187 unq values\n",
      "distance_from_home : 2 unq values\n",
      "high_risk_merchant : 2 unq values\n",
      "transaction_hour : 24 unq values\n",
      "weekend_transaction : 2 unq values\n",
      "velocity_last_hour : 7483740 unq values\n",
      "is_fraud : 2 unq values\n"
     ]
    }
   ],
   "source": [
    "for col in txn_df.columns:\n",
    "    unq_count = txn_df.select(col).distinct().count()\n",
    "    print(f\"{col} : {unq_count} unq values\")"
   ]
  },
  {
   "cell_type": "markdown",
   "id": "5ce07955",
   "metadata": {},
   "source": [
    "# Data Preprocessing"
   ]
  },
  {
   "cell_type": "code",
   "execution_count": 12,
   "id": "5027f574",
   "metadata": {},
   "outputs": [
    {
     "name": "stdout",
     "output_type": "stream",
     "text": [
      "+-----------------+-------------+-----------------+---------+--------+---------+------------+---------+---------------+------------+---------------+-------+------------------+------------------+----------------+-------------------+--------+\n",
      "|merchant_category|merchant_type|         merchant|   amount|currency|  country|        city|city_size|      card_type|card_present|         device|channel|distance_from_home|high_risk_merchant|transaction_hour|weekend_transaction|is_fraud|\n",
      "+-----------------+-------------+-----------------+---------+--------+---------+------------+---------+---------------+------------+---------------+-------+------------------+------------------+----------------+-------------------+--------+\n",
      "|           Travel|     airlines|         Emirates|  2264.21|     SGD|Singapore|Unknown City|   medium|  Premium Debit|       false|        iOS App| mobile|                 1|              true|               1|              false|       0|\n",
      "|              Gas|        major|               BP|   505.03|     CAD|   Canada|Unknown City|   medium|   Basic Credit|       false|    Android App| mobile|                 0|             false|               9|              false|       0|\n",
      "|          Grocery|       online|  Walmart Grocery|187900.22|     NGN|  Nigeria|Unknown City|   medium|    Gold Credit|       false|        Firefox|    web|                 0|             false|               6|              false|       0|\n",
      "|           Travel|    transport|             Lyft|    93.78|     CAD|   Canada|Unknown City|   medium|    Basic Debit|       false|         Chrome|    web|                 0|              true|              17|              false|       0|\n",
      "|           Travel|    transport|            Hertz| 67969.25|     NGN|  Nigeria|Unknown City|   medium|  Premium Debit|       false|        iOS App| mobile|                 0|              true|               5|              false|       0|\n",
      "|              Gas|        local|Local Gas Station|  1890.85|     AUD|Australia|Unknown City|   medium|Platinum Credit|       false|        iOS App| mobile|                 0|             false|              22|              false|       0|\n",
      "|       Restaurant|       casual|       Applebee's| 28339.51|     RUB|   Russia|Unknown City|   medium|   Basic Credit|       false|         Safari|    web|                 1|             false|              18|              false|       1|\n",
      "|           Travel|    transport|             Uber|   1089.4|     BRL|   Brazil|Unknown City|   medium|  Premium Debit|        true|    Chip Reader|    pos|                 1|              true|               1|              false|       1|\n",
      "|    Entertainment|       events|    Regal Cinemas| 26827.61|     RUB|   Russia|Unknown City|   medium|  Premium Debit|       false|    Android App| mobile|                 0|              true|               9|              false|       0|\n",
      "|        Education|       online|            Udemy|   374.63|     JPY|    Japan|Unknown City|   medium|Platinum Credit|       false|         Chrome|    web|                 1|             false|               3|              false|       1|\n",
      "|          Grocery|       online|     Amazon Fresh|   396.19|     USD|      USA| San Antonio|   medium|  Premium Debit|       false|         Safari|    web|                 0|             false|               5|              false|       0|\n",
      "|           Retail|     physical|           Macy's|  9935.95|     MXN|   Mexico|Unknown City|   medium|    Basic Debit|       false|         Safari|    web|                 0|             false|               6|              false|       0|\n",
      "|    Entertainment|       events|    Regal Cinemas|215494.12|     JPY|    Japan|Unknown City|   medium|Platinum Credit|        true|Magnetic Stripe|    pos|                 1|              true|               4|              false|       1|\n",
      "|       Healthcare|      medical|   Local Hospital|   638.55|     SGD|Singapore|Unknown City|   medium|    Basic Debit|       false|         Safari|    web|                 0|             false|               8|              false|       0|\n",
      "|       Healthcare|      medical|         Lab Corp| 11204.85|     MXN|   Mexico|Unknown City|   medium|  Premium Debit|       false|         Safari|    web|                 1|             false|               3|              false|       1|\n",
      "|           Retail|     physical|       Home Depot|   339.77|     EUR|  Germany|Unknown City|   medium|  Premium Debit|       false|           Edge|    web|                 0|             false|              22|              false|       0|\n",
      "|           Travel|    transport|           Careem|   198.79|     USD|      USA|   San Diego|   medium|  Premium Debit|       false|         Safari|    web|                 0|              true|               4|              false|       0|\n",
      "|        Education|     supplies|            Chegg|  1249.07|     USD|      USA| San Antonio|   medium|Platinum Credit|       false|        iOS App| mobile|                 0|             false|              19|              false|       0|\n",
      "|        Education|       online|         Coursera|   318.07|     USD|      USA| San Antonio|   medium|  Premium Debit|       false|         Chrome|    web|                 0|             false|               7|              false|       0|\n",
      "|        Education|       online|            Udemy|     19.8|     RUB|   Russia|Unknown City|   medium|    Gold Credit|        true|Magnetic Stripe|    pos|                 1|             false|              16|              false|       1|\n",
      "+-----------------+-------------+-----------------+---------+--------+---------+------------+---------+---------------+------------+---------------+-------+------------------+------------------+----------------+-------------------+--------+\n",
      "only showing top 20 rows\n"
     ]
    }
   ],
   "source": [
    "from pyspark.sql.functions import col\n",
    "cols_to_drop = [\n",
    "    \"transaction_id\",\n",
    "    \"customer_id\",\n",
    "    \"card_number\",\n",
    "    \"timestamp\",\n",
    "    \"device_fingerprint\",\n",
    "    \"ip_address\",\n",
    "    \"velocity_last_hour\"\n",
    "]\n",
    "\n",
    "txn_df = txn_df.drop(*cols_to_drop)\n",
    "txn_df = txn_df.withColumn(\"is_fraud\", col(\"is_fraud\").cast(\"integer\"))\n",
    "txn_df.show()"
   ]
  },
  {
   "cell_type": "code",
   "execution_count": 13,
   "id": "54d1a4e2",
   "metadata": {},
   "outputs": [],
   "source": [
    "from pyspark.ml import Pipeline\n",
    "from pyspark.ml.feature import StringIndexer, VectorAssembler, OneHotEncoder, StandardScaler\n",
    "\n",
    "# Identifying columns\n",
    "string_cols = [field.name for field in txn_df.schema.fields if field.dataType.typeName() == \"string\"]\n",
    "boolean_cols = [field.name for field in txn_df.schema.fields if field.dataType.typeName() == \"boolean\"]\n",
    "numeric_cols = [field.name for field in txn_df.schema.fields if field.dataType.typeName in [\"integer\", \"double\", \"long\"]]\n",
    "timestamp_cols = [field.name for field in txn_df.schema.fields if field.dataType.typeName == \"timestamp\"]"
   ]
  },
  {
   "cell_type": "code",
   "execution_count": 14,
   "id": "f196071b",
   "metadata": {},
   "outputs": [],
   "source": [
    "indexers = [StringIndexer(inputCol=col, outputCol=col+\"_idx\", handleInvalid=\"keep\") for col in string_cols]\n",
    "\n",
    "\n",
    "feature_cols = [col+\"_idx\" for col in string_cols] + boolean_cols + numeric_cols\n",
    "assembler = VectorAssembler(inputCols=feature_cols, outputCol=\"features\")\n",
    "\n",
    "scaler = StandardScaler(inputCol=\"features\", outputCol=\"scaled_features\")\n",
    "\n",
    "\n",
    "# Building the Pipeline\n",
    "pipeline = Pipeline(stages= indexers + [assembler , scaler])\n",
    "\n",
    "pipeline_model = pipeline.fit(txn_df)\n",
    "preprocessed_df = pipeline_model.transform(txn_df)"
   ]
  },
  {
   "cell_type": "code",
   "execution_count": 15,
   "id": "48035775",
   "metadata": {},
   "outputs": [
    {
     "name": "stdout",
     "output_type": "stream",
     "text": [
      "+-----------------+-------------+-----------------+---------+--------+---------+------------+---------+---------------+------------+---------------+-------+------------------+------------------+----------------+-------------------+--------+---------------------+-----------------+------------+------------+-----------+--------+-------------+-------------+----------+-----------+--------------------+--------------------+\n",
      "|merchant_category|merchant_type|         merchant|   amount|currency|  country|        city|city_size|      card_type|card_present|         device|channel|distance_from_home|high_risk_merchant|transaction_hour|weekend_transaction|is_fraud|merchant_category_idx|merchant_type_idx|merchant_idx|currency_idx|country_idx|city_idx|city_size_idx|card_type_idx|device_idx|channel_idx|            features|     scaled_features|\n",
      "+-----------------+-------------+-----------------+---------+--------+---------+------------+---------+---------------+------------+---------------+-------+------------------+------------------+----------------+-------------------+--------+---------------------+-----------------+------------+------------+-----------+--------+-------------+-------------+----------+-----------+--------------------+--------------------+\n",
      "|           Travel|     airlines|         Emirates|  2264.21|     SGD|Singapore|Unknown City|   medium|  Premium Debit|       false|        iOS App| mobile|                 1|              true|               1|              false|       0|                  4.0|             16.0|       104.0|         5.0|        4.0|     0.0|          0.0|          1.0|       1.0|        1.0|[4.0,16.0,104.0,5...|[1.74598162772246...|\n",
      "|              Gas|        major|               BP|   505.03|     CAD|   Canada|Unknown City|   medium|   Basic Credit|       false|    Android App| mobile|                 0|             false|               9|              false|       0|                  5.0|              5.0|        26.0|         7.0|        7.0|     0.0|          0.0|          4.0|       3.0|        1.0|[5.0,5.0,26.0,7.0...|[2.18247703465308...|\n",
      "|          Grocery|       online|  Walmart Grocery|187900.22|     NGN|  Nigeria|Unknown City|   medium|    Gold Credit|       false|        Firefox|    web|                 0|             false|               6|              false|       0|                  6.0|              0.0|        17.0|         1.0|        0.0|     0.0|          0.0|          3.0|       4.0|        0.0|(13,[0,2,3,7,8],[...|(13,[0,2,3,7,8],[...|\n",
      "|           Travel|    transport|             Lyft|    93.78|     CAD|   Canada|Unknown City|   medium|    Basic Debit|       false|         Chrome|    web|                 0|              true|              17|              false|       0|                  4.0|             15.0|        76.0|         7.0|        7.0|     0.0|          0.0|          0.0|       2.0|        0.0|(13,[0,1,2,3,4,8,...|(13,[0,1,2,3,4,8,...|\n",
      "|           Travel|    transport|            Hertz| 67969.25|     NGN|  Nigeria|Unknown City|   medium|  Premium Debit|       false|        iOS App| mobile|                 0|              true|               5|              false|       0|                  4.0|             15.0|        80.0|         1.0|        0.0|     0.0|          0.0|          1.0|       1.0|        1.0|[4.0,15.0,80.0,1....|[1.74598162772246...|\n",
      "|              Gas|        local|Local Gas Station|  1890.85|     AUD|Australia|Unknown City|   medium|Platinum Credit|       false|        iOS App| mobile|                 0|             false|              22|              false|       0|                  5.0|              4.0|         2.0|        10.0|       11.0|     0.0|          0.0|          2.0|       1.0|        1.0|[5.0,4.0,2.0,10.0...|[2.18247703465308...|\n",
      "|       Restaurant|       casual|       Applebee's| 28339.51|     RUB|   Russia|Unknown City|   medium|   Basic Credit|       false|         Safari|    web|                 1|             false|              18|              false|       1|                  1.0|             11.0|        52.0|         3.0|        2.0|     0.0|          0.0|          4.0|       5.0|        0.0|(13,[0,1,2,3,4,7,...|(13,[0,1,2,3,4,7,...|\n",
      "|           Travel|    transport|             Uber|   1089.4|     BRL|   Brazil|Unknown City|   medium|  Premium Debit|        true|    Chip Reader|    pos|                 1|              true|               1|              false|       1|                  4.0|             15.0|        82.0|         2.0|        1.0|     0.0|          0.0|          1.0|       6.0|        2.0|[4.0,15.0,82.0,2....|[1.74598162772246...|\n",
      "|    Entertainment|       events|    Regal Cinemas| 26827.61|     RUB|   Russia|Unknown City|   medium|  Premium Debit|       false|    Android App| mobile|                 0|              true|               9|              false|       0|                  2.0|              8.0|        51.0|         3.0|        2.0|     0.0|          0.0|          1.0|       3.0|        1.0|[2.0,8.0,51.0,3.0...|[0.87299081386123...|\n",
      "|        Education|       online|            Udemy|   374.63|     JPY|    Japan|Unknown City|   medium|Platinum Credit|       false|         Chrome|    web|                 1|             false|               3|              false|       1|                  7.0|              0.0|        18.0|         8.0|        8.0|     0.0|          0.0|          2.0|       2.0|        0.0|(13,[0,2,3,4,7,8]...|(13,[0,2,3,4,7,8]...|\n",
      "|          Grocery|       online|     Amazon Fresh|   396.19|     USD|      USA| San Antonio|   medium|  Premium Debit|       false|         Safari|    web|                 0|             false|               5|              false|       0|                  6.0|              0.0|        16.0|         9.0|       10.0|     4.0|          0.0|          1.0|       5.0|        0.0|(13,[0,2,3,4,5,7,...|(13,[0,2,3,4,5,7,...|\n",
      "|           Retail|     physical|           Macy's|  9935.95|     MXN|   Mexico|Unknown City|   medium|    Basic Debit|       false|         Safari|    web|                 0|             false|               6|              false|       0|                  3.0|              1.0|        65.0|         4.0|        3.0|     0.0|          0.0|          0.0|       5.0|        0.0|(13,[0,1,2,3,4,8]...|(13,[0,1,2,3,4,8]...|\n",
      "|    Entertainment|       events|    Regal Cinemas|215494.12|     JPY|    Japan|Unknown City|   medium|Platinum Credit|        true|Magnetic Stripe|    pos|                 1|              true|               4|              false|       1|                  2.0|              8.0|        51.0|         8.0|        8.0|     0.0|          0.0|          2.0|       7.0|        2.0|[2.0,8.0,51.0,8.0...|[0.87299081386123...|\n",
      "|       Healthcare|      medical|   Local Hospital|   638.55|     SGD|Singapore|Unknown City|   medium|    Basic Debit|       false|         Safari|    web|                 0|             false|               8|              false|       0|                  0.0|              2.0|        13.0|         5.0|        4.0|     0.0|          0.0|          0.0|       5.0|        0.0|(13,[1,2,3,4,8],[...|(13,[1,2,3,4,8],[...|\n",
      "|       Healthcare|      medical|         Lab Corp| 11204.85|     MXN|   Mexico|Unknown City|   medium|  Premium Debit|       false|         Safari|    web|                 1|             false|               3|              false|       1|                  0.0|              2.0|        10.0|         4.0|        3.0|     0.0|          0.0|          1.0|       5.0|        0.0|(13,[1,2,3,4,7,8]...|(13,[1,2,3,4,7,8]...|\n",
      "|           Retail|     physical|       Home Depot|   339.77|     EUR|  Germany|Unknown City|   medium|  Premium Debit|       false|           Edge|    web|                 0|             false|              22|              false|       0|                  3.0|              1.0|        62.0|         0.0|        9.0|     0.0|          0.0|          1.0|       0.0|        0.0|(13,[0,1,2,4,7],[...|(13,[0,1,2,4,7],[...|\n",
      "|           Travel|    transport|           Careem|   198.79|     USD|      USA|   San Diego|   medium|  Premium Debit|       false|         Safari|    web|                 0|              true|               4|              false|       0|                  4.0|             15.0|        79.0|         9.0|       10.0|     1.0|          0.0|          1.0|       5.0|        0.0|[4.0,15.0,79.0,9....|[1.74598162772246...|\n",
      "|        Education|     supplies|            Chegg|  1249.07|     USD|      USA| San Antonio|   medium|Platinum Credit|       false|        iOS App| mobile|                 0|             false|              19|              false|       0|                  7.0|              6.0|         0.0|         9.0|       10.0|     4.0|          0.0|          2.0|       1.0|        1.0|[7.0,6.0,0.0,9.0,...|[3.05546784851432...|\n",
      "|        Education|       online|         Coursera|   318.07|     USD|      USA| San Antonio|   medium|  Premium Debit|       false|         Chrome|    web|                 0|             false|               7|              false|       0|                  7.0|              0.0|        22.0|         9.0|       10.0|     4.0|          0.0|          1.0|       2.0|        0.0|(13,[0,2,3,4,5,7,...|(13,[0,2,3,4,5,7,...|\n",
      "|        Education|       online|            Udemy|     19.8|     RUB|   Russia|Unknown City|   medium|    Gold Credit|        true|Magnetic Stripe|    pos|                 1|             false|              16|              false|       1|                  7.0|              0.0|        18.0|         3.0|        2.0|     0.0|          0.0|          3.0|       7.0|        2.0|[7.0,0.0,18.0,3.0...|[3.05546784851432...|\n",
      "+-----------------+-------------+-----------------+---------+--------+---------+------------+---------+---------------+------------+---------------+-------+------------------+------------------+----------------+-------------------+--------+---------------------+-----------------+------------+------------+-----------+--------+-------------+-------------+----------+-----------+--------------------+--------------------+\n",
      "only showing top 20 rows\n"
     ]
    }
   ],
   "source": [
    "preprocessed_df.show()"
   ]
  },
  {
   "cell_type": "code",
   "execution_count": 16,
   "id": "72f2e68f",
   "metadata": {},
   "outputs": [],
   "source": [
    "train_df, test_df = preprocessed_df.randomSplit([0.8, 0.2], seed=42)"
   ]
  },
  {
   "cell_type": "code",
   "execution_count": 17,
   "id": "b394149b",
   "metadata": {},
   "outputs": [],
   "source": [
    "from pyspark.ml.classification import LogisticRegression\n",
    "\n",
    "logistic_regression = LogisticRegression(featuresCol=\"scaled_features\", labelCol=\"is_fraud\")"
   ]
  },
  {
   "cell_type": "code",
   "execution_count": 18,
   "id": "bcd7c6dc",
   "metadata": {},
   "outputs": [],
   "source": [
    "model = logistic_regression.fit(train_df)"
   ]
  },
  {
   "cell_type": "code",
   "execution_count": 19,
   "id": "9e86af94",
   "metadata": {},
   "outputs": [
    {
     "name": "stdout",
     "output_type": "stream",
     "text": [
      "Test AUC : 0.8455208169037175\n"
     ]
    }
   ],
   "source": [
    "from pyspark.ml.evaluation import BinaryClassificationEvaluator\n",
    "\n",
    "predictions = model.transform(test_df)\n",
    "evaluator = BinaryClassificationEvaluator(labelCol=\"is_fraud\")\n",
    "auc = evaluator.evaluate(predictions)\n",
    "print(f\"Test AUC : {auc}\")"
   ]
  },
  {
   "cell_type": "code",
   "execution_count": 20,
   "id": "4cb25658",
   "metadata": {},
   "outputs": [
    {
     "name": "stdout",
     "output_type": "stream",
     "text": [
      "+------+---------+-------+\n",
      "|actual|predicted|  count|\n",
      "+------+---------+-------+\n",
      "|     0|        0|1198388|\n",
      "|     1|        0| 168690|\n",
      "|     1|        1| 130233|\n",
      "+------+---------+-------+\n",
      "\n"
     ]
    }
   ],
   "source": [
    "from pyspark.sql.functions import col\n",
    "\n",
    "conf_df = predictions.select(\n",
    "    col(\"is_fraud\").alias(\"actual\"),\n",
    "    col(\"prediction\").cast(\"integer\").alias(\"predicted\")\n",
    ")\n",
    "\n",
    "conf_matrix = conf_df.groupBy(\"actual\",\"predicted\").count().orderBy(\"actual\", \"predicted\")\n",
    "conf_matrix.show()"
   ]
  }
 ],
 "metadata": {
  "kernelspec": {
   "display_name": "Python 3",
   "language": "python",
   "name": "python3"
  },
  "language_info": {
   "codemirror_mode": {
    "name": "ipython",
    "version": 3
   },
   "file_extension": ".py",
   "mimetype": "text/x-python",
   "name": "python",
   "nbconvert_exporter": "python",
   "pygments_lexer": "ipython3",
   "version": "3.13.6"
  }
 },
 "nbformat": 4,
 "nbformat_minor": 5
}
